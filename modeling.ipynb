{
  "nbformat": 4,
  "nbformat_minor": 0,
  "metadata": {
    "colab": {
      "name": "Untitled14.ipynb",
      "private_outputs": true,
      "provenance": []
    },
    "kernelspec": {
      "name": "python3",
      "display_name": "Python 3"
    },
    "language_info": {
      "name": "python"
    }
  },
  "cells": [
    {
      "cell_type": "markdown",
      "metadata": {
        "id": "PyhkWjhH2WNH"
      },
      "source": [
        ""
      ]
    },
    {
      "cell_type": "code",
      "metadata": {
        "id": "4A8yL7iP1hlx"
      },
      "source": [
        "from google.colab import drive\n",
        "drive.mount('/content/drive')"
      ],
      "execution_count": null,
      "outputs": []
    },
    {
      "cell_type": "markdown",
      "metadata": {
        "id": "3YNdHlyQ2KHn"
      },
      "source": [
        "#베이스 모델과는 다른 방식으로 훈련데이터 테스트 데이터로 나누어준후 전처리 진행함\n"
      ]
    },
    {
      "cell_type": "code",
      "metadata": {
        "id": "PyW0IYe12Wq9"
      },
      "source": [
        "from glob import glob\n",
        "path = '/content/drive/MyDrive/animals'\n",
        "dog = sorted(glob(path+'/dog' + '/*'))\n",
        "lion = sorted(glob(path+'/lion' + '/*'))\n",
        "print('dog 이미지 개수: {}\\nlion 이미지 개수: {}'.format(len(dog), len(lion)))"
      ],
      "execution_count": null,
      "outputs": []
    },
    {
      "cell_type": "code",
      "metadata": {
        "id": "GIX8psSk2-2S"
      },
      "source": [
        "import math\n",
        "\n",
        "#비율이 적을 test먼저 분할 진행\n",
        "\n",
        "dog_test= round(len(dog)*0.2)\n",
        "lion_test = round(len(lion)*0.2)\n",
        "\n",
        "print('dog test파일에 들어갈 이미지 개수 : {}/{}'.format(dog_test,len(dog)))\n",
        "print('lion test파일에 들어갈 이미지 개수 : {}/{}'.format(lion_test,len(lion)))"
      ],
      "execution_count": null,
      "outputs": []
    },
    {
      "cell_type": "code",
      "metadata": {
        "id": "RQ1scG-p3tA9"
      },
      "source": [
        "import shutil\n",
        "import random\n",
        "def split(img_list, test_count, train_path, test_path):\n",
        "    \n",
        "    test_files=[]\n",
        "    for i in random.sample( img_list, test_count):\n",
        "        test_files.append(i)\n",
        "    \n",
        "    # 차집합방법으로 train/test 리스트 생성하기\n",
        "    train_files = [x for x in img_list if x not in test_files]\n",
        "\n",
        "    for k in train_files:\n",
        "        shutil.copy(k, train_path)\n",
        "    \n",
        "    for c in test_files:\n",
        "        shutil.copy(c, test_path)\n",
        "    \n",
        "    print('train 폴더 이미지 개수 : {}\\ntest 폴더 이미지 개수: {}'.format(len(glob(train_path+'/*')),len(glob(test_path+'/*'))))"
      ],
      "execution_count": null,
      "outputs": []
    },
    {
      "cell_type": "code",
      "metadata": {
        "id": "qIkJ9eIq49RQ"
      },
      "source": [
        "#개와 사자 파일\n",
        "dog_train_path = '/content/drive/MyDrive/train/dog'\n",
        "dog_test_path = '/content/drive/MyDrive/test/dog' \n",
        "\n",
        "lion_train_path = '/content/drive/MyDrive/train/lion'\n",
        "lion_test_path = '/content/drive/MyDrive/test/lion'\n",
        "\n",
        "#분할\n",
        "split(dog, dog_test, dog_train_path, dog_test_path)\n",
        "split(lion, lion_test, lion_train_path,lion_test_path)"
      ],
      "execution_count": null,
      "outputs": []
    },
    {
      "cell_type": "markdown",
      "metadata": {
        "id": "Psfp1i798WdS"
      },
      "source": [
        "## train/test로 분할을 한 이미지들은 랜덤으로 추출했기때문에 다시 000부터 넘버링해줌."
      ]
    },
    {
      "cell_type": "code",
      "metadata": {
        "id": "y5eeIn699Hz1"
      },
      "source": [
        "import os\n",
        "def rename(files):\n",
        "\n",
        "  if 'dog' in files[0]:\n",
        "     for i,f in enumerate(files):\n",
        "         os.rename(f, os.path.join(path+\"/dog\", 'dog_' + '{0:03d}.jpg'.format(i)))\n",
        "     dog = glob(path+\"/dog\" + '/*')    \n",
        "     print(\"dog {}번째 이미지까지 성공\".format(i+1))\n",
        "\n",
        "  elif 'lion' in files[0]:\n",
        "     for i,f in enumerate(files):\n",
        "         os.rename(f, os.path.join(path+\"/lion\", 'lion_' + '{0:03d}.jpg'.format(i)))\n",
        "     lion = glob(path+\"/lion\"+'/*')\n",
        "     print(\"lion {}번째 이미지까지 성공\".format(i+1))"
      ],
      "execution_count": null,
      "outputs": []
    },
    {
      "cell_type": "code",
      "metadata": {
        "id": "VxQlAT5V8pEd"
      },
      "source": [
        "#먼저 훈련데이터 해줌.\n",
        "\n",
        "path = '/content/drive/MyDrive/train'\n",
        "dog = glob(path+'/dog'+'/*')\n",
        "lion = glob(path+'/lion'+'/*')\n",
        "\n",
        "rename(dog)\n",
        "rename(lion)"
      ],
      "execution_count": null,
      "outputs": []
    },
    {
      "cell_type": "code",
      "metadata": {
        "id": "jxGPdv2s9_LT"
      },
      "source": [
        "path = '/content/drive/MyDrive/train'\n",
        "dog = glob(path+'/dog'+'/*')\n",
        "lion = glob(path+'/lion'+'/*')\n",
        "\n",
        "print('각각 마지막 파일 이름 : ',os.path.basename(sorted(dog)[-1]), os.path.basename(sorted(lion)[-1]))"
      ],
      "execution_count": null,
      "outputs": []
    },
    {
      "cell_type": "code",
      "metadata": {
        "id": "Iiutjj17-S32"
      },
      "source": [
        "#test파일 넘버링\n",
        "\n",
        "path = '/content/drive/MyDrive/test'\n",
        "dog = glob(path+'/dog'+'/*')\n",
        "lion = glob(path+'/lion'+'/*')\n",
        "\n",
        "rename(dog)\n",
        "rename(lion)"
      ],
      "execution_count": null,
      "outputs": []
    },
    {
      "cell_type": "code",
      "metadata": {
        "id": "_t5P6RHP-tqS"
      },
      "source": [
        "path = '/content/drive/MyDrive/test'\n",
        "dog = glob(path+'/dog'+'/*')\n",
        "lion = glob(path+'/lion'+'/*')\n",
        "\n",
        "print('각각 마지막 파일 이름 : ',os.path.basename(sorted(dog)[-1]), os.path.basename(sorted(lion)[-1]))"
      ],
      "execution_count": null,
      "outputs": []
    }
  ]
}