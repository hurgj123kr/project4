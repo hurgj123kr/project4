{
  "nbformat": 4,
  "nbformat_minor": 0,
  "metadata": {
    "colab": {
      "name": "Untitled13.ipynb",
      "private_outputs": true,
      "provenance": []
    },
    "kernelspec": {
      "name": "python3",
      "display_name": "Python 3"
    },
    "language_info": {
      "name": "python"
    }
  },
  "cells": [
    {
      "cell_type": "markdown",
      "metadata": {
        "id": "Lj5k-KGwFol-"
      },
      "source": [
        "#개와 사자의 이미지로 분류및 두개의 이미지 얼굴인식"
      ]
    },
    {
      "cell_type": "code",
      "metadata": {
        "id": "lOspduc_-lLP"
      },
      "source": [
        "import os\n",
        "from glob import glob"
      ],
      "execution_count": null,
      "outputs": []
    },
    {
      "cell_type": "markdown",
      "metadata": {
        "id": "2sPXZGYQFZWm"
      },
      "source": [
        "##크롤링한 이미지 넘버링 정렬및 이미지 비율 확인"
      ]
    },
    {
      "cell_type": "code",
      "metadata": {
        "id": "VK47FoYaFMSS"
      },
      "source": [
        "path = \"/content/drive/MyDrive/animals\"\n",
        "#glob은 파일을 리스트형태로 변환해주기위해 사용.\n",
        "dog = glob(path+\"/dog\"+'/*')\n",
        "lion = glob(path +\"/lion\"+'/*')\n"
      ],
      "execution_count": null,
      "outputs": []
    },
    {
      "cell_type": "code",
      "metadata": {
        "id": "gkA7EVvVFmJ8"
      },
      "source": [
        "#이미지파일 이름 정렬\n",
        "\n",
        "def rename(files):\n",
        "    if 'dog' in files[0]:\n",
        "        for i,f in enumerate(files):\n",
        "            os.rename(f, os.path.join(path+\"/dog\", 'dog_' +'{0:03d}.jpg'.format(i)))\n",
        "        dog = glob(path+\"/dog\"+'/*')\n",
        "        print(\"dog {}번째 이미지까지 성공\".format(i+1))\n",
        "\n",
        "    elif 'lion' in files[0]:\n",
        "        for i,f in enumerate(files):\n",
        "            os.rename(f, os.path.join(path+\"/lion\", 'lion_' +'{0:03d}.jpg'.format(i)))\n",
        "        lion = glob(path+\"/lion\"+'/*')\n",
        "        print(\"lion {}번째 이미지까지 성공\".format(i+1))"
      ],
      "execution_count": null,
      "outputs": []
    },
    {
      "cell_type": "code",
      "metadata": {
        "id": "m6aEKka_0FGc"
      },
      "source": [
        "#이름 정렬하기\n",
        "#rename(dog)\n",
        "#rename(lion)\n",
        "#한번만 작동시켜야함 두번이상 작동하면 이상하게 뒤섞임."
      ],
      "execution_count": null,
      "outputs": []
    },
    {
      "cell_type": "code",
      "metadata": {
        "id": "gDZngjLyCQeX"
      },
      "source": [
        "#이미지 리스트 정렬하기\n",
        "dog = sorted(glob(path+\"/dog\"+'/*'))\n",
        "lion = sorted(glob(path+\"/lion\"+'/*'))\n",
        "\n",
        "print('dog 이미지 개수: {}\\nlion 이미지 개수: {}'.format(len(dog),len(lion)))"
      ],
      "execution_count": null,
      "outputs": []
    },
    {
      "cell_type": "code",
      "metadata": {
        "id": "mdsCiKvGDemQ"
      },
      "source": [
        "#이미지 총갯수 및 비율\n",
        "image_sum = len(dog)+ len(lion)\n",
        "print('전체 이미지 개수 : {}\\n\\ndog 이미지 비율: {:.2f}%\\nlion 이미지 비율:{:.2f}%'.format(image_sum,100*len(dog)/image_sum,100*len(lion)/image_sum)) "
      ],
      "execution_count": null,
      "outputs": []
    },
    {
      "cell_type": "code",
      "metadata": {
        "id": "OXaTlqW1gaED"
      },
      "source": [
        "#베이스라인 모델을 만들기위해서 이미지 데이터 합침\n",
        "data_list = dog + lion\n",
        "print(data_list)"
      ],
      "execution_count": null,
      "outputs": []
    },
    {
      "cell_type": "markdown",
      "metadata": {
        "id": "o6Rv8dUVFPS3"
      },
      "source": [
        "##크롤링이미지 전처리전 시각화"
      ]
    },
    {
      "cell_type": "code",
      "metadata": {
        "id": "yioWoWpSFUmH"
      },
      "source": [
        "import matplotlib.pyplot as plt\n",
        "from matplotlib.pyplot import imshow\n",
        "import cv2\n",
        "import numpy as np\n",
        "%matplotlib inline"
      ],
      "execution_count": null,
      "outputs": []
    },
    {
      "cell_type": "code",
      "metadata": {
        "id": "Jzli0qqdGKm0"
      },
      "source": [
        "#이미지를 읽게 만들어주는 함수 정의\n",
        "def read_img(file_path):\n",
        "    img_arr = cv2.imread(file_path)\n",
        "    return cv2.cvtColor(np.ascontiguousarray(img_arr),cv2.COLOR_BGR2RGB)\n",
        "#cv2.COLOR_BGR2RGB는 bgr 컬러형태의 이미지를 rgb 컬러형태로 변환해줌.\n",
        "#이미지 출력할때 bgr형태의 데이터로는 출력이 안된다. 옵션에 rgb형태의 데이터로 바꾼후 넣어줘야한다함."
      ],
      "execution_count": null,
      "outputs": []
    },
    {
      "cell_type": "code",
      "metadata": {
        "id": "pwCHGszdUwss"
      },
      "source": [
        "#각 각의 이미지 폴더에서 랜덤으로 이미지 시각화 시키기.\n",
        "import random\n",
        "\n",
        "img_arrs = []\n",
        "img_num = range(0,300)\n",
        "#random.sample은 100개의 이미지가 있으면 섞어서 뽑아준다는것.\n",
        "for i in random.sample(img_num,5):\n",
        "\n",
        "    img_arrs.append(read_img(dog[i]))\n",
        "    img_arrs.append(read_img(lion[i]))"
      ],
      "execution_count": null,
      "outputs": []
    },
    {
      "cell_type": "code",
      "metadata": {
        "id": "OclCq1OUV0t-"
      },
      "source": [
        "print('총 {}개의 이미지'.format(len(img_arrs)))"
      ],
      "execution_count": null,
      "outputs": []
    },
    {
      "cell_type": "code",
      "metadata": {
        "id": "1sbh0NBXWA0v"
      },
      "source": [
        "rows = 3 #3개씩 샘플링해서.\n",
        "columns= 2\n",
        "\n",
        "#출력 이미지 설정 figsize설정시에 columns,rows 곱해주는 값을 다르게 해주면 모양이 이상하게 나옴.\n",
        "fig, axes = plt.subplots(nrows=rows,ncols=columns,figsize=(columns*3,rows*3))\n",
        "\n",
        "#설정한대로 이미지 출력\n",
        "for number in range(1, rows*columns+1):\n",
        "    \n",
        "    fig.add_subplot(rows, columns, number)# 원하는 위치 번호를 입력해줌.\n",
        "\n",
        "    idx = number - 1 #인덱스값\n",
        "\n",
        "    plt.imshow(img_arrs[idx], aspect='auto')# aspect를 auto로해서 픽셀형식으로 출력이 된다함.\n",
        "    plt.xlabel(f'{img_arrs[idx].shape}', fontsize=10)\n",
        "\n",
        "fig.tight_layout()\n",
        "\n",
        "# 이미지 재목 설정해주기\n",
        "cols = ['dog','lion']\n",
        "\n",
        "for folder_idx, ax in enumerate(axes[0]):\n",
        "    ax.set_title(cols[folder_idx])\n",
        "\n",
        "# xtick,ytick 즉 x축 y축의 이미지안의 눈금값을 없애줌\n",
        "for idx, ax in enumerate(axes.flat):\n",
        "    ax.set_xticks([])\n",
        "    ax.set_yticks([])"
      ],
      "execution_count": null,
      "outputs": []
    },
    {
      "cell_type": "markdown",
      "metadata": {
        "id": "eAvqrfDtc9ad"
      },
      "source": [
        "## 이미지 전처리 진행"
      ]
    },
    {
      "cell_type": "code",
      "metadata": {
        "id": "Dawiw7z4dCYZ"
      },
      "source": [
        "import numpy as np\n",
        "from tensorflow.keras.preprocessing.text import text_to_word_sequence\n",
        "#이미지 전처리 함수화 진행\n",
        "image_height = 256\n",
        "image_width = 256\n",
        "channel_n = 3\n",
        "batch_size = image_sum\n",
        "\n",
        "def make_file(image_height,image_width,channel_n,batch_size):\n",
        "    label = []\n",
        "    images = np.zeros((batch_size, image_height,image_width,channel_n))\n",
        "    for n,path in enumerate(data_list[:batch_size]):\n",
        "        \n",
        "    #라벨\n",
        "        token = text_to_word_sequence(data_list[n])\n",
        "        label.append(token[0])\n",
        "    #데이터 256,256,3형태로 변환   \n",
        "        image = cv2.imread(data_list[n])\n",
        "        image = cv2.resize(image,(image_height,image_width))/255\n",
        "        images[n,:,:,:] = image\n",
        "\n",
        "    label = np.array(label)\n",
        "\n",
        "    return (label,images)\n"
      ],
      "execution_count": null,
      "outputs": []
    },
    {
      "cell_type": "code",
      "metadata": {
        "id": "xJiZu1ntpDy8"
      },
      "source": [
        "#만든 전처리함수를 이용해서 라벨과 이미지 데이터셋 가져오기\n",
        "label, images = make_file(image_height,image_width,channel_n,batch_size)\n"
      ],
      "execution_count": null,
      "outputs": []
    },
    {
      "cell_type": "code",
      "metadata": {
        "id": "5tUMUj3Es8u2"
      },
      "source": [
        "#데이터와 라벨 구조 확인\n",
        "print(images.shape,label.shape)#잘 나옵니다,"
      ],
      "execution_count": null,
      "outputs": []
    },
    {
      "cell_type": "code",
      "metadata": {
        "id": "O5PES2WEtHQO"
      },
      "source": [
        "#data와 label 인코딩\n",
        "from sklearn.preprocessing import LabelEncoder\n",
        "items = label\n",
        "encoder = LabelEncoder()\n",
        "encoder.fit(items)\n",
        "label = encoder.transform(items)"
      ],
      "execution_count": null,
      "outputs": []
    },
    {
      "cell_type": "markdown",
      "metadata": {
        "id": "ZE4T9Pil29Zs"
      },
      "source": [
        "## 베이스 모델 만들기\n"
      ]
    },
    {
      "cell_type": "code",
      "metadata": {
        "id": "7cxPxrMx3BYG"
      },
      "source": [
        "#data train,test 분할\n",
        "from sklearn.model_selection import train_test_split\n",
        "x = images\n",
        "y = label\n",
        "\n",
        "X_train,X_test,y_train,y_test = train_test_split(x,y,test_size=0.2,random_state=42)\n"
      ],
      "execution_count": null,
      "outputs": []
    },
    {
      "cell_type": "code",
      "metadata": {
        "id": "khgMDKmI5iV0"
      },
      "source": [
        "print(X_train.shape,X_test.shape)#??잘 나눠진것 같긴하다"
      ],
      "execution_count": null,
      "outputs": []
    },
    {
      "cell_type": "code",
      "metadata": {
        "id": "raSdWpS_5pha"
      },
      "source": [
        "from tensorflow.keras.models import Sequential, Model \n",
        "from tensorflow.keras.layers import Dense, Conv2D, MaxPooling2D, Flatten\n",
        "#베이스 모델은 이미지분류의 기본모델인 CNN을 사용할것입니다.\n",
        "model = Sequential()\n",
        "model.add(Conv2D(32, (3,3),activation='relu',input_shape=(image_height, image_width, channel_n)))\n",
        "model.add(MaxPooling2D((2, 2)))\n",
        "model.add(Flatten())\n",
        "model.add(Dense(64, activation='relu'))\n",
        "model.add(Dense(1, activation='sigmoid'))\n",
        "\n",
        "model.summary()"
      ],
      "execution_count": null,
      "outputs": []
    },
    {
      "cell_type": "code",
      "metadata": {
        "id": "SwCO8uSsIyv2"
      },
      "source": [
        "model.compile(optimizer='adam',\n",
        "              loss='binary_crossentropy',\n",
        "              metrics=['accuracy'])\n",
        "base_model = model.fit(X_train,y_train, validation_data=(X_test,y_test),batch_size=256,epochs=2)"
      ],
      "execution_count": null,
      "outputs": []
    },
    {
      "cell_type": "code",
      "metadata": {
        "id": "uzLE8YboJYPf"
      },
      "source": [
        "#베이스라인 모델 시각화\n",
        "#??엄청나게 좋은 성능을 보이고 있다. 데이터가 적은탓인거같기도함.\n",
        "plt.figure(figsize=(12,4))\n",
        "plt.subplot(1, 2, 1)\n",
        "plt.plot(base_model.history['accuracy'])\n",
        "plt.plot(base_model.history['val_accuracy'])\n",
        "plt.title('model accuracy')\n",
        "plt.xlabel('epoch')\n",
        "plt.ylabel('accuracy')\n",
        "plt.legend(['train', 'validation'])\n",
        "\n",
        "plt.subplot(1, 2, 2)\n",
        "plt.plot(base_model.history['loss'])\n",
        "plt.plot(base_model.history['val_loss'])\n",
        "plt.title('model loss')\n",
        "plt.xlabel('epoch')\n",
        "plt.ylabel('loss')\n",
        "plt.legend(['train', 'validation'])"
      ],
      "execution_count": null,
      "outputs": []
    },
    {
      "cell_type": "markdown",
      "metadata": {
        "id": "Z54_sOTBNWcw"
      },
      "source": [
        "## 저 베이스라인을 토대로 얼굴인식 모델 만들기\n"
      ]
    }
  ]
}